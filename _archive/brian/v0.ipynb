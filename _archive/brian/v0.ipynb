{
 "cells": [
  {
   "cell_type": "code",
   "execution_count": null,
   "metadata": {},
   "outputs": [
    {
     "name": "stderr",
     "output_type": "stream",
     "text": [
      "WARNING    \"tau\" is an internal variable of group \"neurongroup_4\", but also exists in the run namespace with the value 10. * msecond. The internal variable will be used. [brian2.groups.group.Group.resolve.resolution_conflict]\n"
     ]
    }
   ],
   "source": [
    "from brian2 import *\n",
    "%matplotlib inline\n",
    "start_scope()\n",
    "\n",
    "eqs = '''\n",
    "dv/dt = (I-v)/tau : 1\n",
    "I : 1\n",
    "tau : second\n",
    "'''\n",
    "G = NeuronGroup(3, eqs, threshold='v>1', reset='v = 0', method='exact')\n",
    "G.I = [2, 0, 0]\n",
    "G.tau = [10, 100, 100]*ms\n",
    "\n",
    "# Comment these two lines out to see what happens without Synapses\n",
    "S = Synapses(G, G, 'w : 1', on_pre='v_post += w')\n",
    "S.connect(i=0, j=[1, 2])\n",
    "S.w = 'j*0.2'\n",
    "\n",
    "M = StateMonitor(G, 'v', record=True)\n",
    "\n",
    "run(50*ms)\n",
    "\n",
    "plot(M.t/ms, M.v[0], label='Neuron 0')\n",
    "plot(M.t/ms, M.v[1], label='Neuron 1')\n",
    "plot(M.t/ms, M.v[2], label='Neuron 2')\n",
    "xlabel('Time (ms)')\n",
    "ylabel('v')\n",
    "legend();"
   ]
  },
  {
   "cell_type": "code",
   "execution_count": null,
   "metadata": {},
   "outputs": [],
   "source": []
  }
 ],
 "metadata": {
  "kernelspec": {
   "display_name": "Python 3",
   "language": "python",
   "name": "python3"
  },
  "language_info": {
   "codemirror_mode": {
    "name": "ipython",
    "version": 3
   },
   "file_extension": ".py",
   "mimetype": "text/x-python",
   "name": "python",
   "nbconvert_exporter": "python",
   "pygments_lexer": "ipython3",
   "version": "3.8.4"
  }
 },
 "nbformat": 4,
 "nbformat_minor": 4
}
